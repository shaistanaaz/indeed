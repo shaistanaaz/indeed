{
 "cells": [
  {
   "cell_type": "code",
   "execution_count": 22,
   "metadata": {},
   "outputs": [
    {
     "name": "stdout",
     "output_type": "stream",
     "text": [
      "['statistics', 'Excel', 'R', 'statistics', 'MongoDB']\n"
     ]
    }
   ],
   "source": [
    "import spacy\n",
    "from bs4 import BeautifulSoup\n",
    "import csv\n",
    "import re\n",
    "import pandas as pd\n",
    "import requests\n",
    "import urllib.request\n",
    "\n",
    "#parsing using beautifulsoup\n",
    "url=\"https://www.indeed.com/q-Data-Scientist-jobs.html\"\n",
    "response=requests.get(url)\n",
    "soup=BeautifulSoup(response.content,\"html.parser\")\n",
    "\n",
    "#extracting job description from website\n",
    "des=[]\n",
    "jds=soup.find_all(\"div\", class_=\"summary\")\n",
    "for jd in jds:\n",
    "    summary=jd.text\n",
    "    #print(summary)\n",
    "    des.append(summary)\n",
    "#print(des)\n",
    "\n",
    "#storing extracted job description into a text file\n",
    "with open(\"file.txt\", \"w\") as output:\n",
    "    output.write(str(des))\n",
    "        \n",
    "# load pre-trained spacy model\n",
    "nlp = spacy.load('en_core_web_sm')\n",
    "\n",
    "    \n",
    "#creating a csv file of skillset required for data scientist  \n",
    "outfile = open(\"skillset.csv\",\"w\",newline='')\n",
    "writer = csv.writer(outfile)\n",
    "skillset=['machine learning','r','sas','excel','python','statistics','data mining','data cleaning','data visualization'\n",
    "          ,'data manipulation','data exploration',\n",
    "         'advanced analytics','predictive modelling','summary statistics','asw','mongodb'\n",
    "          ,'big data','optimization techniques','training' ]    \n",
    "df=pd.DataFrame(skillset)    \n",
    "df.to_csv('skillset.csv')\n",
    "outfile.close()\n",
    "\n",
    "\n",
    "#extracting skills from indeed job description data\n",
    "file = open(\"file.txt\",mode='r')\n",
    "data = file.read()\n",
    "file.close()\n",
    "nlp_text=nlp(data)\n",
    "tokens = [token.text for token in nlp_text if not token.is_stop]\n",
    "noun_chunks = nlp_text.noun_chunks\n",
    "\n",
    "skills=[]\n",
    "# check for one-grams (example: python)\n",
    "for token in tokens:\n",
    "    if token.lower() in skillset:\n",
    "        #print(token)\n",
    "        skills.append(token)\n",
    "    \n",
    "    # check for bi-grams and tri-grams (example: machine learning)\n",
    "#for token in noun_chunks:\n",
    "#    token = token.text.lower().strip()\n",
    "#    if token in skillset:\n",
    "        \n",
    "#        skills.append(token)\n",
    "print(skills)    \n",
    "\n",
    "\n",
    "\n",
    "\n",
    "\n",
    "\n",
    "\n",
    "\n",
    "\n",
    "\n"
   ]
  },
  {
   "cell_type": "code",
   "execution_count": 11,
   "metadata": {},
   "outputs": [
    {
     "name": "stdout",
     "output_type": "stream",
     "text": [
      "Collecting https://github.com/explosion/spacy-models/releases/download/en_core_web_sm-2.2.0/en_core_web_sm-2.2.0.tar.gz\n",
      "  Downloading https://github.com/explosion/spacy-models/releases/download/en_core_web_sm-2.2.0/en_core_web_sm-2.2.0.tar.gz (12.0 MB)\n",
      "Requirement already satisfied: spacy>=2.2.0 in c:\\users\\tausif\\appdata\\local\\programs\\python\\python36\\lib\\site-packages (from en-core-web-sm==2.2.0) (2.2.4)\n",
      "Requirement already satisfied: plac<1.2.0,>=0.9.6 in c:\\users\\tausif\\appdata\\local\\programs\\python\\python36\\lib\\site-packages (from spacy>=2.2.0->en-core-web-sm==2.2.0) (1.1.3)\n",
      "Requirement already satisfied: cymem<2.1.0,>=2.0.2 in c:\\users\\tausif\\appdata\\local\\programs\\python\\python36\\lib\\site-packages (from spacy>=2.2.0->en-core-web-sm==2.2.0) (2.0.3)\n",
      "Requirement already satisfied: tqdm<5.0.0,>=4.38.0 in c:\\users\\tausif\\appdata\\local\\programs\\python\\python36\\lib\\site-packages (from spacy>=2.2.0->en-core-web-sm==2.2.0) (4.45.0)\n",
      "Requirement already satisfied: numpy>=1.15.0 in c:\\users\\tausif\\appdata\\local\\programs\\python\\python36\\lib\\site-packages (from spacy>=2.2.0->en-core-web-sm==2.2.0) (1.18.3)\n",
      "Requirement already satisfied: preshed<3.1.0,>=3.0.2 in c:\\users\\tausif\\appdata\\local\\programs\\python\\python36\\lib\\site-packages (from spacy>=2.2.0->en-core-web-sm==2.2.0) (3.0.2)\n",
      "Requirement already satisfied: setuptools in c:\\users\\tausif\\appdata\\local\\programs\\python\\python36\\lib\\site-packages (from spacy>=2.2.0->en-core-web-sm==2.2.0) (39.0.1)\n",
      "Requirement already satisfied: blis<0.5.0,>=0.4.0 in c:\\users\\tausif\\appdata\\local\\programs\\python\\python36\\lib\\site-packages (from spacy>=2.2.0->en-core-web-sm==2.2.0) (0.4.1)\n",
      "Requirement already satisfied: srsly<1.1.0,>=1.0.2 in c:\\users\\tausif\\appdata\\local\\programs\\python\\python36\\lib\\site-packages (from spacy>=2.2.0->en-core-web-sm==2.2.0) (1.0.2)\n",
      "Requirement already satisfied: catalogue<1.1.0,>=0.0.7 in c:\\users\\tausif\\appdata\\local\\programs\\python\\python36\\lib\\site-packages (from spacy>=2.2.0->en-core-web-sm==2.2.0) (1.0.0)\n",
      "Requirement already satisfied: requests<3.0.0,>=2.13.0 in c:\\users\\tausif\\appdata\\local\\programs\\python\\python36\\lib\\site-packages (from spacy>=2.2.0->en-core-web-sm==2.2.0) (2.23.0)\n",
      "Requirement already satisfied: wasabi<1.1.0,>=0.4.0 in c:\\users\\tausif\\appdata\\local\\programs\\python\\python36\\lib\\site-packages (from spacy>=2.2.0->en-core-web-sm==2.2.0) (0.6.0)\n",
      "Requirement already satisfied: thinc==7.4.0 in c:\\users\\tausif\\appdata\\local\\programs\\python\\python36\\lib\\site-packages (from spacy>=2.2.0->en-core-web-sm==2.2.0) (7.4.0)\n",
      "Requirement already satisfied: murmurhash<1.1.0,>=0.28.0 in c:\\users\\tausif\\appdata\\local\\programs\\python\\python36\\lib\\site-packages (from spacy>=2.2.0->en-core-web-sm==2.2.0) (1.0.2)\n",
      "Requirement already satisfied: importlib-metadata>=0.20; python_version < \"3.8\" in c:\\users\\tausif\\appdata\\local\\programs\\python\\python36\\lib\\site-packages (from catalogue<1.1.0,>=0.0.7->spacy>=2.2.0->en-core-web-sm==2.2.0) (1.6.0)\n",
      "Requirement already satisfied: chardet<4,>=3.0.2 in c:\\users\\tausif\\appdata\\local\\programs\\python\\python36\\lib\\site-packages (from requests<3.0.0,>=2.13.0->spacy>=2.2.0->en-core-web-sm==2.2.0) (3.0.4)\n",
      "Requirement already satisfied: certifi>=2017.4.17 in c:\\users\\tausif\\appdata\\local\\programs\\python\\python36\\lib\\site-packages (from requests<3.0.0,>=2.13.0->spacy>=2.2.0->en-core-web-sm==2.2.0) (2020.4.5.1)\n",
      "Requirement already satisfied: urllib3!=1.25.0,!=1.25.1,<1.26,>=1.21.1 in c:\\users\\tausif\\appdata\\local\\programs\\python\\python36\\lib\\site-packages (from requests<3.0.0,>=2.13.0->spacy>=2.2.0->en-core-web-sm==2.2.0) (1.25.9)\n",
      "Requirement already satisfied: idna<3,>=2.5 in c:\\users\\tausif\\appdata\\local\\programs\\python\\python36\\lib\\site-packages (from requests<3.0.0,>=2.13.0->spacy>=2.2.0->en-core-web-sm==2.2.0) (2.9)\n",
      "Requirement already satisfied: zipp>=0.5 in c:\\users\\tausif\\appdata\\local\\programs\\python\\python36\\lib\\site-packages (from importlib-metadata>=0.20; python_version < \"3.8\"->catalogue<1.1.0,>=0.0.7->spacy>=2.2.0->en-core-web-sm==2.2.0) (3.1.0)\n",
      "Installing collected packages: en-core-web-sm\n",
      "    Running setup.py install for en-core-web-sm: started\n",
      "    Running setup.py install for en-core-web-sm: finished with status 'done'\n",
      "Successfully installed en-core-web-sm-2.2.0\n",
      "Note: you may need to restart the kernel to use updated packages.\n"
     ]
    }
   ],
   "source": [
    "pip install https://github.com/explosion/spacy-models/releases/download/en_core_web_sm-2.2.0/en_core_web_sm-2.2.0.tar.gz"
   ]
  }
 ],
 "metadata": {
  "kernelspec": {
   "display_name": "Python 3",
   "language": "python",
   "name": "python3"
  },
  "language_info": {
   "codemirror_mode": {
    "name": "ipython",
    "version": 3
   },
   "file_extension": ".py",
   "mimetype": "text/x-python",
   "name": "python",
   "nbconvert_exporter": "python",
   "pygments_lexer": "ipython3",
   "version": "3.6.5"
  }
 },
 "nbformat": 4,
 "nbformat_minor": 4
}
